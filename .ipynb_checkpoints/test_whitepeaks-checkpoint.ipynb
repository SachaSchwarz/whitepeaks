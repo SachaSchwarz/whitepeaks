{
 "cells": [
  {
   "cell_type": "markdown",
   "metadata": {},
   "source": [
    "# Test Whitepeaks"
   ]
  },
  {
   "cell_type": "markdown",
   "metadata": {},
   "source": [
    "### Load Whitepeaks package and check accessability"
   ]
  },
  {
   "cell_type": "code",
   "execution_count": 1,
   "metadata": {},
   "outputs": [
    {
     "name": "stdout",
     "output_type": "stream",
     "text": [
      "True\n",
      "True\n",
      "True\n",
      "True\n",
      "True\n",
      "True\n",
      "True\n",
      "True\n"
     ]
    }
   ],
   "source": [
    "#Preliminaries\n",
    "import os,sys\n",
    "import whitepeaks\n",
    "\n",
    "print('whitepeaks' in sys.modules)\n",
    "print('numpy' in sys.modules)\n",
    "print('matplotlib' in sys.modules)\n",
    "print('os' in sys.modules)\n",
    "print('skimage' in sys.modules)\n",
    "print('time' in sys.modules)\n",
    "print('scipy' in sys.modules)\n",
    "print('unittest' in sys.modules)"
   ]
  },
  {
   "cell_type": "markdown",
   "metadata": {},
   "source": [
    "#### List all modules and functions"
   ]
  },
  {
   "cell_type": "code",
   "execution_count": 2,
   "metadata": {},
   "outputs": [],
   "source": [
    "def getListOfFiles(dirName):\n",
    "    length=len(dirName)+1\n",
    "    # create a list of file and sub directories \n",
    "    # names in the given directory \n",
    "    listOfFile = os.listdir(dirName)\n",
    "    allFiles = list()\n",
    "    # Iterate over all the entries\n",
    "    for entry in listOfFile:\n",
    "        # Create full path\n",
    "        fullPath = os.path.join(dirName, entry)\n",
    "        # If entry is a directory then get the list of files in this directory \n",
    "        if os.path.isdir(fullPath):\n",
    "            allFiles = allFiles + getListOfFiles(fullPath)\n",
    "        else:\n",
    "            if not (fullPath[-4:] == '.pyc' or \n",
    "                    fullPath[-14:] == '-checkpoint.py' or \n",
    "                    fullPath[-4:] == '_.py'):\n",
    "                allFiles.append(fullPath[length:])\n",
    "    return allFiles"
   ]
  },
  {
   "cell_type": "code",
   "execution_count": 3,
   "metadata": {},
   "outputs": [
    {
     "data": {
      "text/plain": [
       "['.DS_Store',\n",
       " 'fft.py',\n",
       " 'fitGaussian.py',\n",
       " 'fitPolynomial.py',\n",
       " 'functions.py',\n",
       " 'stats.py',\n",
       " 'binner.py',\n",
       " 'io.py',\n",
       " 'postProcessing.py',\n",
       " 'frogalgo.py',\n",
       " 'gsalgo.py',\n",
       " 'sfg.py',\n",
       " 'measure.py',\n",
       " 'photonStates.py',\n",
       " 'pulses.py',\n",
       " 'waveplates.py',\n",
       " 'xstal.py']"
      ]
     },
     "execution_count": 3,
     "metadata": {},
     "output_type": "execute_result"
    }
   ],
   "source": [
    "getListOfFiles('whitepeaks')"
   ]
  },
  {
   "cell_type": "code",
   "execution_count": null,
   "metadata": {},
   "outputs": [],
   "source": []
  }
 ],
 "metadata": {
  "kernelspec": {
   "display_name": "Python 3",
   "language": "python",
   "name": "python3"
  },
  "language_info": {
   "codemirror_mode": {
    "name": "ipython",
    "version": 3
   },
   "file_extension": ".py",
   "mimetype": "text/x-python",
   "name": "python",
   "nbconvert_exporter": "python",
   "pygments_lexer": "ipython3",
   "version": "3.6.7"
  }
 },
 "nbformat": 4,
 "nbformat_minor": 2
}
