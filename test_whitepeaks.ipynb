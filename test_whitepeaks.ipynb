{
 "cells": [
  {
   "cell_type": "markdown",
   "metadata": {},
   "source": [
    "# Test Whitepeaks"
   ]
  },
  {
   "cell_type": "markdown",
   "metadata": {},
   "source": [
    "### Load Whitepeaks package"
   ]
  },
  {
   "cell_type": "code",
   "execution_count": 1,
   "metadata": {},
   "outputs": [
    {
     "name": "stdout",
     "output_type": "stream",
     "text": [
      "Path Whitepeaks package:  C:\\Users\\s4schwar\\Documents\\GitHub\\whitepeaks\n",
      "Notebook directory:  C:\\Users\\s4schwar\\Documents\\GitHub\\whitepeaks\n"
     ]
    }
   ],
   "source": [
    "#Preliminaries\n",
    "import os,sys\n",
    "\n",
    "#Specify path to whitepeaks framework (test.ipynb => same as notebookDirectory)\n",
    "whitePeaksFolder=%pwd\n",
    "\n",
    "#Current notebook directory\n",
    "notebookDirectory=%pwd\n",
    "\n",
    "#Change to whitepeaks folder, load package and change back to notebookDirectory\n",
    "from os import chdir\n",
    "chdir( whitePeaksFolder )\n",
    "from whitepeaks import *\n",
    "chdir( notebookDirectory )\n",
    "\n",
    "print('Path Whitepeaks package: ',whitePeaksFolder)\n",
    "print('Notebook directory: ',notebookDirectory)"
   ]
  },
  {
   "cell_type": "markdown",
   "metadata": {},
   "source": [
    "#### List all modules and functions"
   ]
  },
  {
   "cell_type": "code",
   "execution_count": 2,
   "metadata": {},
   "outputs": [],
   "source": [
    "def getListOfFiles(dirName):\n",
    "    length=len(dirName)+1\n",
    "    # create a list of file and sub directories \n",
    "    # names in the given directory \n",
    "    listOfFile = os.listdir(dirName)\n",
    "    allFiles = list()\n",
    "    # Iterate over all the entries\n",
    "    for entry in listOfFile:\n",
    "        # Create full path\n",
    "        fullPath = os.path.join(dirName, entry)\n",
    "        # If entry is a directory then get the list of files in this directory \n",
    "        if os.path.isdir(fullPath):\n",
    "            allFiles = allFiles + getListOfFiles(fullPath)\n",
    "        else:\n",
    "            if not (fullPath[-4:] == '.pyc' or \n",
    "                    fullPath[-14:] == '-checkpoint.py' or \n",
    "                    fullPath[-4:] == '_.py'):\n",
    "                allFiles.append(fullPath[length:])\n",
    "    return allFiles"
   ]
  },
  {
   "cell_type": "code",
   "execution_count": 3,
   "metadata": {},
   "outputs": [],
   "source": [
    "from inspect import getmembers, isfunction\n",
    "\n",
    "def getListOfFunctionsInModule(my_module):\n",
    "    functions_list = [o for o in getmembers(my_module) if isfunction(o[1])]\n",
    "    dir(my_module)\n",
    "    for k in range(len(functions_list)):\n",
    "        print(functions_list[k][0])"
   ]
  },
  {
   "cell_type": "code",
   "execution_count": 4,
   "metadata": {},
   "outputs": [
    {
     "data": {
      "text/plain": [
       "['frogalgo.py',\n",
       " 'gsalgo.py',\n",
       " 'sfg.py',\n",
       " 'measure.py',\n",
       " 'photonStates.py',\n",
       " 'pulses.py',\n",
       " 'waveplates.py',\n",
       " 'xstal.py']"
      ]
     },
     "execution_count": 4,
     "metadata": {},
     "output_type": "execute_result"
    }
   ],
   "source": [
    "getListOfFiles(whitePeaksFolder+'\\\\whitepeaks_v2\\\\')"
   ]
  },
  {
   "cell_type": "code",
   "execution_count": 5,
   "metadata": {},
   "outputs": [
    {
     "name": "stdout",
     "output_type": "stream",
     "text": [
      "BhattacharyyaCoeff\n",
      "BhattacharyyaDistance\n",
      "DM\n",
      "FROG_error\n",
      "FROG_grid\n",
      "GS_1D\n",
      "GS_algorithm\n",
      "GS_modified\n",
      "GS_modified_test\n",
      "GS_test\n",
      "GV\n",
      "GVD\n",
      "HWP\n",
      "NRMS\n",
      "QWP\n",
      "Rt\n",
      "SPDC_state\n",
      "background_subtract_array\n",
      "background_subtract_treshold\n",
      "binner\n",
      "chi2_reduced\n",
      "corner_subtract\n",
      "corner_suprresion\n",
      "correlation\n",
      "create_tf_data\n",
      "curve_fit\n",
      "deconvolve_gaussian2d\n",
      "deconvolve_heralded_width\n",
      "derivative\n",
      "dw2f\n",
      "entropy\n",
      "error_I\n",
      "error_phi\n",
      "fft_axis\n",
      "fft_grid\n",
      "fft_pulse\n",
      "fft_state_1D\n",
      "fft_state_2D\n",
      "fftdeconvolve\n",
      "fidelity\n",
      "fit_errors\n",
      "fit_gaussian\n",
      "fit_marginal_phase\n",
      "fit_phase\n",
      "fit_poly\n",
      "fit_polynomial\n",
      "freqspace\n",
      "gauss\n",
      "gauss2d\n",
      "gauss2d_cost\n",
      "gauss2d_residual\n",
      "gauss_cost\n",
      "gaussian_parameters\n",
      "gaussian_pulse\n",
      "gaussian_state\n",
      "get_correlation\n",
      "get_data\n",
      "get_gaussian_moments\n",
      "get_heralded_moments\n",
      "get_marginal\n",
      "get_mean_heralded_moments\n",
      "get_moments\n",
      "get_slice\n",
      "grid2d_data\n",
      "ifft_pulse\n",
      "least_squares\n",
      "load_2d_data\n",
      "load_gs_data\n",
      "load_spectrogram\n",
      "low_pass_filter\n",
      "padnextpow2\n",
      "plot_2D_Gaussian\n",
      "plot_gaussian\n",
      "plot_spectrogram_data\n",
      "plot_tf_data\n",
      "poly1\n",
      "poly2\n",
      "poly2D\n",
      "poly2D_cost\n",
      "poly3\n",
      "polyfit2d\n",
      "polyfit2phase\n",
      "polyfit2sep\n",
      "print_GS_output\n",
      "print_parameters\n",
      "print_tf_fit_data\n",
      "random_phase\n",
      "read_spectrogram\n",
      "rect_ycut\n",
      "run_gs_algorithm\n",
      "search\n",
      "square_grid\n",
      "top_hat\n",
      "two_photon_frequency_grid\n",
      "unwrap_phase\n",
      "w2f\n",
      "weighted_polyfit2phase\n",
      "wpoly2d\n",
      "wpoly2d_cost\n",
      "write_FROG_spectrogram\n"
     ]
    }
   ],
   "source": [
    "getListOfFunctionsInModule(gsalgo)"
   ]
  },
  {
   "cell_type": "markdown",
   "metadata": {},
   "source": [
    "#### check that all packages are installed"
   ]
  },
  {
   "cell_type": "code",
   "execution_count": 6,
   "metadata": {},
   "outputs": [
    {
     "name": "stdout",
     "output_type": "stream",
     "text": [
      "True\n",
      "True\n",
      "True\n",
      "True\n",
      "True\n",
      "True\n",
      "True\n"
     ]
    }
   ],
   "source": [
    "import sys\n",
    "print('numpy' in sys.modules)\n",
    "print('matplotlib' in sys.modules)\n",
    "print('os' in sys.modules)\n",
    "print('skimage' in sys.modules)\n",
    "print('time' in sys.modules)\n",
    "print('scipy' in sys.modules)\n",
    "print('unittest' in sys.modules)"
   ]
  },
  {
   "cell_type": "markdown",
   "metadata": {},
   "source": [
    "#### Test suite"
   ]
  }
 ],
 "metadata": {
  "kernelspec": {
   "display_name": "Python 3",
   "language": "python",
   "name": "python3"
  },
  "language_info": {
   "codemirror_mode": {
    "name": "ipython",
    "version": 3
   },
   "file_extension": ".py",
   "mimetype": "text/x-python",
   "name": "python",
   "nbconvert_exporter": "python",
   "pygments_lexer": "ipython3",
   "version": "3.6.7"
  }
 },
 "nbformat": 4,
 "nbformat_minor": 2
}
